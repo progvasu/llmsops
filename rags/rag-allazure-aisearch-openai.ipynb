{
 "cells": [
  {
   "cell_type": "code",
   "execution_count": 55,
   "id": "27885204-11bb-4ebc-a90f-7ff6ac352610",
   "metadata": {},
   "outputs": [],
   "source": [
    "import os\n",
    "import openai\n",
    "from langchain.embeddings import OpenAIEmbeddings\n",
    "from langchain.vectorstores import AzureSearch\n",
    "from langchain_openai import AzureOpenAIEmbeddings"
   ]
  },
  {
   "cell_type": "code",
   "execution_count": 56,
   "id": "3c9b935a-399f-4ea3-8bdd-34e365165c53",
   "metadata": {},
   "outputs": [
    {
     "data": {
      "text/plain": [
       "True"
      ]
     },
     "execution_count": 56,
     "metadata": {},
     "output_type": "execute_result"
    }
   ],
   "source": [
    "from dotenv import load_dotenv, find_dotenv\n",
    "load_dotenv(find_dotenv(), override=True)"
   ]
  },
  {
   "cell_type": "code",
   "execution_count": 57,
   "id": "94fe7199-4116-492e-9a9a-af5d26055295",
   "metadata": {},
   "outputs": [
    {
     "data": {
      "text/plain": [
       "'E:\\\\repos\\\\llmsops\\\\.env'"
      ]
     },
     "execution_count": 57,
     "metadata": {},
     "output_type": "execute_result"
    }
   ],
   "source": [
    "find_dotenv()"
   ]
  },
  {
   "cell_type": "code",
   "execution_count": 58,
   "id": "72e056dc-f85f-4fd0-b5d5-c8616ca94519",
   "metadata": {},
   "outputs": [],
   "source": [
    "embeddings = AzureOpenAIEmbeddings(deployment=\"text-embedding-ada-002\")\n",
    "\n",
    "# The embedding models work by converting words, phrases, or even entire documents into mathematical \n",
    "# representations known as vectors. These vectors, which exist in a high-dimensional space, capture the meaning \n",
    "# and relationships between different words and concepts."
   ]
  },
  {
   "cell_type": "code",
   "execution_count": 59,
   "id": "816e9fbe-abae-464a-88d9-4ef1300766e2",
   "metadata": {},
   "outputs": [
    {
     "data": {
      "text/plain": [
       "AzureOpenAIEmbeddings(client=<openai.resources.embeddings.Embeddings object at 0x00000263A8F6F0B0>, async_client=<openai.resources.embeddings.AsyncEmbeddings object at 0x00000263A93B6210>, model='text-embedding-ada-002', dimensions=None, deployment='text-embedding-ada-002', openai_api_version='2023-05-15', openai_api_base=None, openai_api_type='azure', openai_proxy=None, embedding_ctx_length=8191, openai_api_key=SecretStr('**********'), openai_organization=None, allowed_special=None, disallowed_special=None, chunk_size=2048, max_retries=2, request_timeout=None, headers=None, tiktoken_enabled=True, tiktoken_model_name=None, show_progress_bar=False, model_kwargs={}, skip_empty=False, default_headers=None, default_query=None, retry_min_seconds=4, retry_max_seconds=20, http_client=None, http_async_client=None, check_embedding_ctx_length=True, azure_endpoint='https://azure-openai-learning-vasu.openai.azure.com/', azure_ad_token=None, azure_ad_token_provider=None, azure_ad_async_token_provider=None, validate_base_url=True)"
      ]
     },
     "execution_count": 59,
     "metadata": {},
     "output_type": "execute_result"
    }
   ],
   "source": [
    "embeddings"
   ]
  },
  {
   "cell_type": "code",
   "execution_count": 60,
   "id": "359ec516-091f-4884-90e9-bd1964b6db4e",
   "metadata": {},
   "outputs": [
    {
     "data": {
      "text/plain": [
       "<bound method OpenAIEmbeddings.embed_query of AzureOpenAIEmbeddings(client=<openai.resources.embeddings.Embeddings object at 0x00000263A8F6F0B0>, async_client=<openai.resources.embeddings.AsyncEmbeddings object at 0x00000263A93B6210>, model='text-embedding-ada-002', dimensions=None, deployment='text-embedding-ada-002', openai_api_version='2023-05-15', openai_api_base=None, openai_api_type='azure', openai_proxy=None, embedding_ctx_length=8191, openai_api_key=SecretStr('**********'), openai_organization=None, allowed_special=None, disallowed_special=None, chunk_size=2048, max_retries=2, request_timeout=None, headers=None, tiktoken_enabled=True, tiktoken_model_name=None, show_progress_bar=False, model_kwargs={}, skip_empty=False, default_headers=None, default_query=None, retry_min_seconds=4, retry_max_seconds=20, http_client=None, http_async_client=None, check_embedding_ctx_length=True, azure_endpoint='https://azure-openai-learning-vasu.openai.azure.com/', azure_ad_token=None, azure_ad_token_provider=None, azure_ad_async_token_provider=None, validate_base_url=True)>"
      ]
     },
     "execution_count": 60,
     "metadata": {},
     "output_type": "execute_result"
    }
   ],
   "source": [
    "embeddings.embed_query"
   ]
  },
  {
   "cell_type": "code",
   "execution_count": 61,
   "id": "55590893-16aa-4a64-9ed0-d2de6796f3e1",
   "metadata": {},
   "outputs": [],
   "source": [
    "# Setting up Azure AI Search on the portal\n",
    "# 1. Create Azure bloc storage and a container in that \n",
    "# 2. Upload csv to your demo container\n",
    "# 3. Create Azure AI service\n",
    "# 4. Create a embedding deployment in Azure OpenAI (assuming we already have created this resource)\n",
    "# 5. Click 'Import and vectorize data'.\n",
    "# 6. Query this index!\n",
    "\n",
    "# -or-\n",
    "#  Create a index from code itself\n",
    "# 1. Create Azure AI service\n",
    "# 2. Folloe the below code to create index and add documents"
   ]
  },
  {
   "cell_type": "code",
   "execution_count": 63,
   "id": "de862907-4c5b-4500-ade1-c06fbb3353f0",
   "metadata": {},
   "outputs": [],
   "source": [
    "# Connect to Azure Cognitive Search\n",
    "acs = AzureSearch(azure_search_endpoint=os.getenv('SEARCH_SERVICE_NAME'),\n",
    "                 azure_search_key=os.getenv('SEARCH_API_KEY'),\n",
    "                 index_name=os.getenv('SEARCH_INDEX_NAME'),\n",
    "                 embedding_function=embeddings.embed_query)"
   ]
  },
  {
   "cell_type": "code",
   "execution_count": 66,
   "id": "6c8e2b9d-88f6-47b5-8502-452cb099c8bb",
   "metadata": {},
   "outputs": [
    {
     "name": "stdout",
     "output_type": "stream",
     "text": [
      "E:\\repos\\llmsops\n"
     ]
    }
   ],
   "source": [
    "print(os.getcwd())"
   ]
  },
  {
   "cell_type": "code",
   "execution_count": 81,
   "id": "6f6b3195-7a36-4966-af41-07e7a2d7c191",
   "metadata": {},
   "outputs": [],
   "source": [
    "from langchain.document_loaders import CSVLoader\n",
    "\n",
    "# Update the sample file path later\n",
    "loader = CSVLoader(\"./rags/wine-ratings.csv\", encoding=\"utf8\")\n",
    "documents = loader.load()"
   ]
  },
  {
   "cell_type": "code",
   "execution_count": 82,
   "id": "37fde3ef-d980-4793-a43a-f299b8cc91d6",
   "metadata": {},
   "outputs": [
    {
     "data": {
      "text/plain": [
       "list"
      ]
     },
     "execution_count": 82,
     "metadata": {},
     "output_type": "execute_result"
    }
   ],
   "source": [
    "type(documents)"
   ]
  },
  {
   "cell_type": "code",
   "execution_count": 83,
   "id": "0a81cef6-d57c-4e2b-a954-0c46cac7ae67",
   "metadata": {},
   "outputs": [
    {
     "data": {
      "text/plain": [
       "32780"
      ]
     },
     "execution_count": 83,
     "metadata": {},
     "output_type": "execute_result"
    }
   ],
   "source": [
    "len(documents)"
   ]
  },
  {
   "cell_type": "code",
   "execution_count": 84,
   "id": "f994a3f7-cb94-4768-81d2-b6f839e79651",
   "metadata": {},
   "outputs": [
    {
     "data": {
      "text/plain": [
       "Document(metadata={'source': './rags/wine-ratings.csv', 'row': 0}, page_content='id: 0\\nname: 1000 Stories Bourbon Barrel Aged Batch Blue Carignan 2016\\ngrape: \\nregion: Mendocino, California\\nvariety: Red Wine\\nrating: 91\\nnotes: This is a very special, limited release of 1000 Stories Bourbon Barrel-Aged Carignan, their first-ever release of Carignan as a single varietal. Classic and rustic with a little edge. Look for notes of brilliantly racy red and black fruits set to a rich backdrop of toast, herbs, and cocoa.')"
      ]
     },
     "execution_count": 84,
     "metadata": {},
     "output_type": "execute_result"
    }
   ],
   "source": [
    "documents[0]"
   ]
  },
  {
   "cell_type": "code",
   "execution_count": 97,
   "id": "02ac8883-5f9a-45a3-993e-686415436d24",
   "metadata": {},
   "outputs": [],
   "source": [
    "from langchain.text_splitter import CharacterTextSplitter\n",
    "\n",
    "text_splitter = CharacterTextSplitter(chunk_size=1000, chunk_overlap=0)\n",
    "docs = text_splitter.split_documents(documents)\n",
    "\n",
    "# What happended here? No visible change"
   ]
  },
  {
   "cell_type": "code",
   "execution_count": 98,
   "id": "029dbba5-68b0-481c-9f59-fb39ce51b1da",
   "metadata": {},
   "outputs": [
    {
     "data": {
      "text/plain": [
       "32780"
      ]
     },
     "execution_count": 98,
     "metadata": {},
     "output_type": "execute_result"
    }
   ],
   "source": [
    "len(docs)"
   ]
  },
  {
   "cell_type": "code",
   "execution_count": 102,
   "id": "6ba48214-8b90-43a7-bf83-30d0974b41a0",
   "metadata": {},
   "outputs": [
    {
     "data": {
      "text/plain": [
       "100"
      ]
     },
     "execution_count": 102,
     "metadata": {},
     "output_type": "execute_result"
    }
   ],
   "source": [
    "len(docs[0:100])"
   ]
  },
  {
   "cell_type": "code",
   "execution_count": 103,
   "id": "aec89913-d408-4bf4-ad7f-458966cfefda",
   "metadata": {},
   "outputs": [
    {
     "data": {
      "text/plain": [
       "['YjBhNjE5ZjUtYjI2MS00ODI1LTg4YmItYmQwNGE5NjA1MzUy',\n",
       " 'YTcxYjBkMGItYmJiMy00Y2RmLTg2M2MtYzNlNDFkNWY0NTgy',\n",
       " 'ZDkxYmQxNTQtZTQ3NS00NGQ4LTg1N2YtMTQ3NmU2OTgzN2Mz',\n",
       " 'ODYzMmYwOWQtZjIxMC00NWU0LWEzNmYtMzczNTliNzJmNjkz',\n",
       " 'NjRhMjY4MWUtZGJlOS00Njc2LTgwYjktNmQwZWQ1MDY0MTYy',\n",
       " 'Mjg3NGVjODAtODM2OC00NTRlLWEwYzktMzM5ZmMzZjFmMTYy',\n",
       " 'OTQxNTY1MTUtZWM0OS00MzFhLWIyMTktZDVjNDY2NDZhY2Ew',\n",
       " 'MjU1ZmU1YWEtMTk2MS00YjExLWEzNjYtNmExOTM4ZjVjNTZk',\n",
       " 'NjQ4NzA2ZWYtMjBhNy00YzI3LTliZWMtYTNkN2VjOTMzOWZk',\n",
       " 'NDA5Y2EyNDQtZDljYy00OTEwLTkyZGYtODgyYjFiMWZjNmRi',\n",
       " 'NzExMTI4ZjYtNGY3Yy00M2NjLWI5M2EtMTcyZGM2ZjRkOTAy',\n",
       " 'ZGVmY2IzMjAtMmIzMy00YTQ0LWE1YTAtNjUxN2ZiZWY2N2I0',\n",
       " 'NDEyNzUxNWUtNTk1OS00MWFiLWE4YWItZjRkMWFlM2NmYWY1',\n",
       " 'Nzk1MjcwOGItYzJmNC00NTA4LWE3NDItYTJjNWI2ZmFiMWJi',\n",
       " 'ZDE4YmEyYTItNGMyNS00MzFiLTgwMTItODdlZjNkMzA4Mjgz',\n",
       " 'MWZhZmRmNjMtN2VlNy00MjliLTg5ZjEtZWMyMTMwZjY1MDQ1',\n",
       " 'YjQ3Y2U2NGYtOTgyZS00ZjQyLTliYjctZGRiYzNiMDA5NzJl',\n",
       " 'MTE2MTcyMDYtOGFmYy00NzdjLThhM2YtNDBlNDNlZWM3OGE4',\n",
       " 'YzRkZjdjMDQtOTcwMS00MmRhLWIxNjctZGVjZTBlNjhkMGJi',\n",
       " 'MTBjMDI1NzctNTI1My00NWRiLWE1ZjktMDA3OGMyYzY5NTVk',\n",
       " 'YzdkYmJmMjgtODZmYi00YzgzLWE5MTktYTg5MzRiZDkxZGFl',\n",
       " 'MTAxZGQzMjQtMGU4Mi00NGU5LTg4ZDgtMDEyMDI1N2M3NGIx',\n",
       " 'YWRiNWM4NTMtNjNkMy00NTIzLWE2ZjAtNThiZjU0OGZiNTlk',\n",
       " 'ZjYyM2M5YzItMWQzOC00MDBlLWFiMDctMGFiNGJhMGU4OWU0',\n",
       " 'NDQ0NzUxOWUtMDY2MC00OWIzLWI0ZDItNTExNGFhZjYzNzY3',\n",
       " 'NWNjNTcwYjQtYmY5OC00Mjc1LTgxOTYtZmEwNmE2YTRlMzcw',\n",
       " 'ZTE2ZWQ1MjYtNzU5MC00YjhiLWEyNGUtZjM1MjgzMWM4YTli',\n",
       " 'NzIyYTdmOTctYjEyMC00OTg1LTkwNzEtODk3NjJjODIwYWNl',\n",
       " 'MGU3NWEzZTgtYzM0OC00ZGM2LTkwYTktMTQ5NzBjMDA3MjJk',\n",
       " 'Mzg4NjY2YjQtYzFkNy00NmQyLTk4YzYtNWQ2MWIxNTZiOGFk',\n",
       " 'ZGM4ZjlhODMtNjJmZS00ZGIxLTk3MjQtNmY5N2NkZWQ4Y2Nk',\n",
       " 'ZTdiNTRmZTEtOWYwNC00OGNmLWJlMjEtNWMwMzYxMmNhZWE5',\n",
       " 'ODdiMzVlYTAtMTliOS00OTI1LWJkNzItNzc5NzcxMzc0Yjc4',\n",
       " 'ZTlhMDU5ZWQtM2E5Ni00MTAyLWE3MTAtOGEwOTg3YjdjNWI2',\n",
       " 'Yzk2YjRiOGYtMzFlMi00YzY3LTkyMjEtMGNiODNjMzFhNjBk',\n",
       " 'NzI3YmEzYWMtOWM1ZS00NWQ5LWI5YTMtYzliZjUwNTU3ZGJh',\n",
       " 'NjI4NTU2YmYtNDM2Zi00ZWYxLWJjOGItOWMxZjExOTg3N2M3',\n",
       " 'MTlkMzhkZjctZjFkMy00YWYzLTkzN2MtOWFhZjUwZmI1MzRh',\n",
       " 'MjVhMTFlMmUtMTU5OC00MjI0LWI2OTAtM2QwOWJhZjQwZTE1',\n",
       " 'M2MyMzJhMzctOGMxZi00MThhLWFiYjItZDY3M2IyOThjMGJm',\n",
       " 'MDQ2ZmM2OTgtNDMxZS00NDI4LThkZWItMTU4ZGU2MGYwNDRm',\n",
       " 'YWIzYTFjZTUtY2VmYS00NzZiLTg4MmItOGQwNDRjNDk0MTUy',\n",
       " 'M2M2M2Q4MDItMjVkNy00ZDlkLWJkMzgtODk5YThiMTdkODQ2',\n",
       " 'NmYxMmJjNTgtMjJhNy00NzM1LTg5NTUtYWNkMWViNjcyNTgx',\n",
       " 'MjkxOTkxZTYtMWZmYy00YmQ5LWIwNWUtMWYzMjJjYTNjNzll',\n",
       " 'MDQ2ODdhMGUtYzk4NC00NzE3LWJhNjYtMDIzYWQ3ZjM0ODA3',\n",
       " 'MTU4ODlhYmUtY2ZmYy00MTI3LWE4MGMtZWI5NmMxNjZiYmRl',\n",
       " 'Zjc3ZDA3N2MtOGQ4Zi00MWE2LTg2NTEtNjYxOTJmYWQzMzMw',\n",
       " 'YWJmNzE1NTMtMzE5My00OGQ2LWJkM2EtNDIwYzY4N2U1Zjli',\n",
       " 'OTRmN2I5YjctNTYzNi00YzVmLWJlMjAtZDVlODRkNTY5YzZh',\n",
       " 'NTIzMmZiNzUtMThiNi00ZmUzLWFiNmUtZWM5NjQxYTlmNmI2',\n",
       " 'YjZjYWNmMzEtODA4MC00MThiLTllZGQtM2FjM2IxNjcwYTYx',\n",
       " 'ZmMxNTJiYjMtNTlkMy00MzQ2LTk5MWEtZmJlMjE0Mjk2NWU3',\n",
       " 'ZWEwYWE1ODktZDQwMy00MjY3LWE4YzQtY2NiNTI1NjEyNzA1',\n",
       " 'OGU0Mjc0MTItNjM2OC00MjRlLTg3NTctMzUxNGI2OTIwY2Fi',\n",
       " 'OWE3MmRhMzktZTlkZS00Yzk5LWI3MGMtYmQ3NDc5ZWYyNmFj',\n",
       " 'ZWRkYTFiMzUtMGI3OC00ZDE4LTkyZmYtMDM4NjQxNWNjYjI4',\n",
       " 'OTZlZDQxMmItNTY1Yy00NjI1LWI5ZDUtMGQ1ZTZjOGEzYTE2',\n",
       " 'MzlhMTJjZjAtYzRiNC00YjZkLTg5N2EtYjQ0YzQxMWUzZTk3',\n",
       " 'NGJlNTVjOGYtY2VlYy00NTA4LWJhMDEtYWU3ZjRkNGYzMjZj',\n",
       " 'OGJmODJlYWItYzFhZC00ZWYxLWFhNTktMTk5MTgyNGU2MzMx',\n",
       " 'NmMwOWFkNzAtNDJiZS00MWZkLTk5MjItODRmZjI4MDdlZGVh',\n",
       " 'ZGY0NGU2YjItZDE1NC00OGYzLTgzODgtYTg0OGE0YzQyMjEy',\n",
       " 'MmYwYWNiNDAtMTZlNS00MGYxLWJlMTUtMjEwMDRhM2FmMzMw',\n",
       " 'YjBjNmFmODktYjY4Yi00YmY0LTg4ZDgtN2YwZDYyZTQ3Y2M1',\n",
       " 'NjEyZWUzNTgtNTczMS00ZmQ4LTg3OTYtMDQ5M2ZmMGJlYjVj',\n",
       " 'NzU2YzRiM2QtNmNiNy00ZWIzLWE0MzItMTY0MTllMzQxN2Ez',\n",
       " 'Yzc0MzE0ZGMtY2UxNS00OWE1LWE2MTItY2Q5YzU0MWRjZDhk',\n",
       " 'YzVmYWRkZDUtMzc5NC00NjZiLTk0NGMtM2U0N2ViYTVkYWU2',\n",
       " 'NmFhYmEzNzUtNGU0My00ZmRiLWFlNzUtZDhlYjk4OGUyN2E1',\n",
       " 'MzFkODNlOTAtNmI3YS00NDA4LTlhYjUtZTI2OWUwOTc1MzY5',\n",
       " 'NzY5ZTExYTctZmYyMi00ZjM3LWEwOTgtNjdiNGUzM2UxMDdh',\n",
       " 'OTBiYWU5YzEtYzc1OC00MmJiLTk2YWYtYzAxYzBkMTFjYTA2',\n",
       " 'Zjc3NjRlNjktNzc5Ny00ZjJhLTliYzctZGE5ODJkNDg1M2Jh',\n",
       " 'NzFhZWM1YWItZDM2Mi00OTQ5LWI5MjYtYTYzZDdlZGQ3N2Ri',\n",
       " 'MjkwYTI1ZmItODMzNi00OTgxLTg5OTMtODMxYzYwOTIwNTA2',\n",
       " 'ZTVmODkyMTktYjk3Mi00NDkyLWFmMjUtMTQwMDZkMDIzMmFi',\n",
       " 'NzE3OTU1MDUtMDkxNC00NTk2LThjMTYtYTMxNjRjMjY2Zjhm',\n",
       " 'MTRjM2IwOWUtZTYxZS00YmQ5LTg2YjQtMjJlMTU5MzllYTVm',\n",
       " 'MjljNTdlNGEtMTgzYy00NTg0LWFmOTctMjc1NGFjZDJlYjNi',\n",
       " 'MTIzYzQ5ZGYtZmM1My00YTE1LWJkN2YtMDQxODIxOTQ3OWI5',\n",
       " 'ZjA4ZGQ0ZjQtNDI0Zi00OTE4LTgyMWQtODQzNjY5ODQ4OTQ4',\n",
       " 'N2RjNGYyN2EtMWNmMC00ZThlLTg1ZjEtZTM5YjBmMWZiOGFj',\n",
       " 'ZjUzNDVjMzItMjVlOS00OGQxLWFjOTAtMGZjZGRiY2RkMDYx',\n",
       " 'Mjc5MGM5OGEtODQ0Ni00OWE3LWI1MzAtYzZhZjJlYzU1Yzdk',\n",
       " 'ZWQ1YTZlY2UtNjUwMS00MmIxLTk3NjUtYmU2ZjFlNGFhY2Ni',\n",
       " 'NmVmNWVlMjUtZDRmMi00MDM3LWJlNjctZGZkMzNlMjgyZGI1',\n",
       " 'MzEzOTY0NDItMWFhZC00YThhLWJkYmUtNTliZjVlMzM3Nzcx',\n",
       " 'ZmVhNzI2YjgtOGZjMi00MzAzLTllNzAtY2IzMDcxMTRjY2Q0',\n",
       " 'MjNlMmJlM2MtZjc5Ny00NDgxLTg3MTAtNzIzNzU3ZjUwMDAx',\n",
       " 'OTRjZWU4YTUtOWQ1YS00ZjVjLTk3ZmUtZDIzNDc1MzVhNmNi',\n",
       " 'NDlkOGI5NmUtNTFiZS00ZjBlLTk0ODUtYTNmMDg4OGRiN2I4',\n",
       " 'NzViOTY1MDYtNGNmMS00YTE3LWFiMTItYTA3ZDgwNzc3ZDZk',\n",
       " 'NmNiNjQ2NTItMGU4Mi00OWE5LWE5NzItZmY0ZDg5YzlhNzEy',\n",
       " 'ZmE0ZGJhMDEtM2M2Ny00ZmY3LThkNDItZGEwYzFhMzUxOTc2',\n",
       " 'OGViZGU0ZmYtMDZlZi00YWE0LWI3N2ItNTY3OTYzZmJkNDMx',\n",
       " 'NDE1OTc2MDEtNmVlNC00ZDNhLTlhZTYtNDYyOTAyNThiN2Zk',\n",
       " 'NjE1YzQzYTYtM2FiZi00OTliLWEyODgtODM2MzJhZjQ2MmJi',\n",
       " 'NDQzZDU1NjUtNzczZS00ZGIzLWFmNmItZGE1OGUyZWY3ZDMw',\n",
       " 'NjhmNjA5ZTAtNWUzYy00YzU3LWFiYTUtMzYxYWI3NzNkMTJm']"
      ]
     },
     "execution_count": 103,
     "metadata": {},
     "output_type": "execute_result"
    }
   ],
   "source": [
    "# Time consuming operation!\n",
    "acs.add_documents(documents=docs[0:100])"
   ]
  },
  {
   "cell_type": "code",
   "execution_count": 105,
   "id": "7a08de19-ee37-46c1-8de1-7d7b9db4eded",
   "metadata": {},
   "outputs": [
    {
     "name": "stdout",
     "output_type": "stream",
     "text": [
      "id: 20\n",
      "name: 1849 Declaration Napa Valley Cabernet Sauvignon 2014\n",
      "grape: \n",
      "region: Napa Valley, California\n",
      "variety: Red Wine\n",
      "rating: 91\n",
      "notes: The palate is robust with flavors of dark blueberry, blackberry, traces of red currant, and subtle sweet oak from the barrel. This wine is fruit forward, full-bodied and spreads richly across the palate with soft velvety tannins and a long-lasting finish.\n"
     ]
    }
   ],
   "source": [
    "intDocs = acs.similarity_search_with_relevance_scores(\n",
    "    query=\"What is the best Cabernet Sauvignon wine in Napa Valley above 94 points\",\n",
    "    k=5,\n",
    ")\n",
    "\n",
    "print(intDocs[0][0].page_content)"
   ]
  },
  {
   "cell_type": "code",
   "execution_count": 106,
   "id": "4ab0ce81-a291-42f9-894e-7ae6379863ec",
   "metadata": {},
   "outputs": [
    {
     "name": "stdout",
     "output_type": "stream",
     "text": [
      "['__abstractmethods__', '__annotations__', '__class__', '__class_getitem__', '__class_vars__', '__copy__', '__deepcopy__', '__delattr__', '__dict__', '__dir__', '__doc__', '__eq__', '__fields__', '__fields_set__', '__firstlineno__', '__format__', '__ge__', '__get_pydantic_core_schema__', '__get_pydantic_json_schema__', '__getattr__', '__getattribute__', '__getstate__', '__gt__', '__hash__', '__init__', '__init_subclass__', '__iter__', '__le__', '__lt__', '__module__', '__ne__', '__new__', '__pretty__', '__private_attributes__', '__pydantic_complete__', '__pydantic_computed_fields__', '__pydantic_core_schema__', '__pydantic_custom_init__', '__pydantic_decorators__', '__pydantic_extra__', '__pydantic_fields__', '__pydantic_fields_set__', '__pydantic_generic_metadata__', '__pydantic_init_subclass__', '__pydantic_parent_namespace__', '__pydantic_post_init__', '__pydantic_private__', '__pydantic_root_model__', '__pydantic_serializer__', '__pydantic_validator__', '__reduce__', '__reduce_ex__', '__replace__', '__repr__', '__repr_args__', '__repr_name__', '__repr_recursion__', '__repr_str__', '__rich_repr__', '__setattr__', '__setstate__', '__signature__', '__sizeof__', '__slots__', '__static_attributes__', '__str__', '__subclasshook__', '__weakref__', '_abc_impl', '_calculate_keys', '_check_frozen', '_copy_and_set_values', '_get_value', '_iter', 'cast_id_to_str', 'construct', 'copy', 'dict', 'from_orm', 'get_lc_namespace', 'id', 'is_lc_serializable', 'json', 'lc_attributes', 'lc_id', 'lc_secrets', 'metadata', 'model_computed_fields', 'model_config', 'model_construct', 'model_copy', 'model_dump', 'model_dump_json', 'model_extra', 'model_fields', 'model_fields_set', 'model_json_schema', 'model_parametrized_name', 'model_post_init', 'model_rebuild', 'model_validate', 'model_validate_json', 'model_validate_strings', 'page_content', 'parse_file', 'parse_obj', 'parse_raw', 'schema', 'schema_json', 'to_json', 'to_json_not_implemented', 'type', 'update_forward_refs', 'validate']\n"
     ]
    }
   ],
   "source": [
    "print(dir(intDocs[0][0]))"
   ]
  },
  {
   "cell_type": "code",
   "execution_count": 107,
   "id": "199b959d-c82d-4bde-88f4-09993ad9cc8b",
   "metadata": {},
   "outputs": [],
   "source": [
    "endpoint = os.getenv(\"ENDPOINT_URL\", os.getenv('AZURE_OPENAI_ENDPOINT'))  \n",
    "deployment = os.getenv(\"DEPLOYMENT_NAME\", \"gpt-4\")  \n",
    "subscription_key = os.getenv(\"AZURE_OPENAI_API_KEY\", os.getenv('OPENAI_API_VERSION_GPT4')) "
   ]
  },
  {
   "cell_type": "code",
   "execution_count": 111,
   "id": "78767b07-937b-4046-902c-e2635a2b4011",
   "metadata": {},
   "outputs": [],
   "source": [
    "# Connect to the large language model\n",
    "from openai import AzureOpenAI\n",
    "\n",
    "client = AzureOpenAI(  \n",
    "    azure_endpoint=endpoint,  \n",
    "    api_key=subscription_key,  \n",
    "    api_version=\"2024-05-01-preview\",\n",
    ")"
   ]
  },
  {
   "cell_type": "code",
   "execution_count": 112,
   "id": "3aded9d4-26a7-475c-9b9d-fd601b536537",
   "metadata": {},
   "outputs": [],
   "source": [
    "chat_prompt = [\n",
    "    {\n",
    "        \"role\": \"system\",\n",
    "        \"content\": [\n",
    "            {\n",
    "                \"type\": \"text\",\n",
    "                \"text\": \"You are chatbot, a wine specialist. Your top priority is to help guide users into selecting amazing wine and guide them with their requests.\"\n",
    "            }\n",
    "        ]\n",
    "    },\n",
    "    {\n",
    "        \"role\": \"user\",\n",
    "        \"content\": [\n",
    "            {\n",
    "                \"type\": \"text\",\n",
    "                \"text\": \"What is the best Cabernet Sauvignon wine in Napa Valley above 94 points.\"\n",
    "            }\n",
    "        ]\n",
    "    },\n",
    "    {\n",
    "        \"role\": \"assistant\",\n",
    "        \"content\": [\n",
    "            {\n",
    "                \"type\": \"text\",\n",
    "                \"text\": str(intDocs)\n",
    "            }\n",
    "        ]\n",
    "    }\n",
    "] "
   ]
  },
  {
   "cell_type": "code",
   "execution_count": 113,
   "id": "53cb3dae-c723-47d0-a096-0b73d1cdeb19",
   "metadata": {},
   "outputs": [],
   "source": [
    "completion = client.chat.completions.create(  \n",
    "    model=deployment,\n",
    "    messages=chat_prompt,\n",
    "    max_tokens=800,  \n",
    "    temperature=0.7,  \n",
    "    top_p=0.95,  \n",
    "    frequency_penalty=0,  \n",
    "    presence_penalty=0,\n",
    "    stop=None,  \n",
    "    stream=False\n",
    ")"
   ]
  },
  {
   "cell_type": "code",
   "execution_count": 114,
   "id": "9df83d36-a324-4da9-a4f3-76e54ba31670",
   "metadata": {},
   "outputs": [
    {
     "name": "stdout",
     "output_type": "stream",
     "text": [
      "ChatCompletionMessage(content=\"In Napa Valley, there are numerous exceptional Cabernet Sauvignon wines rated above 94 points. Here are a few top-rated options:\\n\\n1. **Screaming Eagle Cabernet Sauvignon** - Often achieving near-perfect scores, this iconic wine is known for its complexity, depth, and elegance.\\n\\n2. **Harlan Estate** - This wine is highly acclaimed for its rich texture, intense fruit flavors, and remarkable balance, frequently scoring above 95 points.\\n\\n3. **Opus One** - A joint venture between Baron Philippe de Rothschild and Robert Mondavi, this wine is a staple in the high-scoring category, known for its finesse and structure.\\n\\n4. **Shafer Vineyards Hillside Select** - Consistently rated above 94 points, this wine is celebrated for its powerful tannins that are both lush and well-integrated.\\n\\n5. **Caymus Vineyards Special Selection** - This wine is another high achiever, known for its opulent fruit flavors and velvety texture.\\n\\nThese wines are not only high scorers but also embody the prestige and quality of Napa Valley's winemaking excellence. Each offers a unique expression of the region's terroir and craftsmanship.\", refusal=None, role='assistant', audio=None, function_call=None, tool_calls=None)\n"
     ]
    }
   ],
   "source": [
    "print(completion.choices[0].message)"
   ]
  },
  {
   "cell_type": "code",
   "execution_count": null,
   "id": "2c008c45-ce88-44fe-9e81-5173fff8826b",
   "metadata": {},
   "outputs": [],
   "source": []
  }
 ],
 "metadata": {
  "kernelspec": {
   "display_name": "Python 3 (ipykernel)",
   "language": "python",
   "name": "python3"
  },
  "language_info": {
   "codemirror_mode": {
    "name": "ipython",
    "version": 3
   },
   "file_extension": ".py",
   "mimetype": "text/x-python",
   "name": "python",
   "nbconvert_exporter": "python",
   "pygments_lexer": "ipython3",
   "version": "3.13.1"
  }
 },
 "nbformat": 4,
 "nbformat_minor": 5
}
